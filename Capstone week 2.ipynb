{
    "cells": [
        {
            "cell_type": "markdown",
            "metadata": {
                "collapsed": true
            },
            "source": "# Introduction/Business Problem"
        },
        {
            "cell_type": "markdown",
            "metadata": {},
            "source": "For this project, I will be analyzing the Seattle car accident severity data available from the SDOT Traffic Mangement Division.\n\nAs Seattle has a warm, temperate oceanic climate with a mountainous terrain, studying the predictors of a severe accident may help to mitigate future accidents. For instance, the weather can change drastically from sunny to rainy to snowy. If we know under which conditions a severe car accident is more likely to occur, then we can prevent it by avoiding driving under such conditions. Further, certain geographic locations within the city may be more susceptible to accidents and can also be avoided.\n\nMy aim is to understand the impact of weather and geographic location on car accident severity.\n\nThe target audience is all drivers as well as pedestrians who may be impacted by this information. For instance, drivers would use this information to avoid driving under certain conditions or in specific geographic locations in the city. Further, pedestrians may seek to avoid such areas if the chances of an accident are high. Lastly, the government bureaus would also be interested in this project, as they can provide more warnings to drivers, as well as work on improving infrastructure to avoid future severe accidents."
        },
        {
            "cell_type": "markdown",
            "metadata": {},
            "source": "# Data"
        },
        {
            "cell_type": "markdown",
            "metadata": {},
            "source": "The data that I will be using includes all collision data from 2004 to present is updated weekly. There are 37 attributes available which are: OBJECTID, SHAPE, INCKEY, COLDETKEY, ADDRTYPE, INTKEY, LOCATION, EXCEPTRSNCODE, EXCEPTRSNDESC, SEVERITYCODE, SEVERITYDESC, COLLISIONTYPE, PERSONCOUNT, PECOUNT, PEDCYLCOUNT, VEHCOUNT, INUURIES, SERIOUSINJURIES, FATALITIES, INCDATE, INCDTTM, JUNCTIONTYPE, SDOT_COLCODE, SDOT_COLDESC, INATTENTIONIND, UNDERINFL, WEATHER, ROADCOND, LIGHTCOND, PEDROWNOTGRNT, SDOTCOLNUM, SPEEDING, ST_COLCODE, ST_COLDESC, SEGLANEKEY, CROSSWALKKEY, and HITPARKEDCAR.\n\nThe full dataset is available <a href=\"https://s3.us.cloud-object-storage.appdomain.cloud/cf-courses-data/CognitiveClass/DP0701EN/version-2/Data-Collisions.csv\" target=\"_blank\">here</a> and the metadata (description of the data) is available <a href=\"https://s3.us.cloud-object-storage.appdomain.cloud/cf-courses-data/CognitiveClass/DP0701EN/version-2/Metadata.pdf\" target=\"_blank\">here</a>."
        },
        {
            "cell_type": "markdown",
            "metadata": {},
            "source": "LOCATION allows us to understand exactly where the accident took place.\nSEVERITYCODE allows us to study which accidents are more severe compared to others.\nWEATHER, ROADCOND, LIGHTCOND, will give us a better understanding of the weather conditions at the time of the accident.\n\nFrom this data, we can gather a lot of information that is useful to understanding our business problem. For example, if we can see whether the severe accident took place in overcast, wet conditions with dark lighting versus clear, dry, daylight conditions. "
        },
        {
            "cell_type": "markdown",
            "metadata": {},
            "source": "# Methodology"
        },
        {
            "cell_type": "markdown",
            "metadata": {},
            "source": "To better understand the issue, I ran a regression."
        },
        {
            "cell_type": "markdown",
            "metadata": {},
            "source": "# Results"
        },
        {
            "cell_type": "markdown",
            "metadata": {},
            "source": "The results show that under rainy conditions, more severe accidents occur."
        },
        {
            "cell_type": "markdown",
            "metadata": {},
            "source": "# Discussion"
        },
        {
            "cell_type": "markdown",
            "metadata": {},
            "source": "It is advisable to avoid driving during rainy conditions and to make alerts so drivers avoid driving at this time."
        },
        {
            "cell_type": "markdown",
            "metadata": {},
            "source": "# Conclusion"
        },
        {
            "cell_type": "markdown",
            "metadata": {},
            "source": "I studied the problem of severe car accidents in the Seattle area. I found that accidents occur mostly in rainy conditions."
        }
    ],
    "metadata": {
        "kernelspec": {
            "display_name": "Python 3.6",
            "language": "python",
            "name": "python3"
        },
        "language_info": {
            "codemirror_mode": {
                "name": "ipython",
                "version": 3
            },
            "file_extension": ".py",
            "mimetype": "text/x-python",
            "name": "python",
            "nbconvert_exporter": "python",
            "pygments_lexer": "ipython3",
            "version": "3.6.9"
        }
    },
    "nbformat": 4,
    "nbformat_minor": 1
}